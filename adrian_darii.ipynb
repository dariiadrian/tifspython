{
 "cells": [
  {
   "cell_type": "code",
   "execution_count": 1,
   "metadata": {},
   "outputs": [],
   "source": [
    "nume = \"Darii\"\n",
    "prenume = \"Adrian\""
   ]
  },
  {
   "cell_type": "code",
   "execution_count": null,
   "metadata": {},
   "outputs": [],
   "source": [
    "print(\"Nume: {}\".format(nume))\n",
    "print(\"Prenume: {}\".format(prenume))"
   ]
  },
  {
   "cell_type": "code",
   "execution_count": null,
   "metadata": {},
   "outputs": [],
   "source": [
    "a = input(\"a: \")\n",
    "b = input(\"b: \")\n",
    "a = int(a)\n",
    "b = int(b)\n",
    "print(\"a:\", a)\n",
    "print(\"b:\", b)\n",
    "print(a+b)\n",
    "print(a-b)\n",
    "print(a*b)\n",
    "for a in range(a):\n",
    "    print(\"Darii\")\n",
    "for b in range(b):\n",
    "    print(\"Adrian\")\n",
    "print(a/b)\n",
    "print(a%b)\n",
    "print((a+b)/144)"
   ]
  },
  {
   "cell_type": "code",
   "execution_count": null,
   "metadata": {},
   "outputs": [],
   "source": [
    "text = input()\n",
    "text = str(text)\n",
    "print(text[-3:])\n",
    "print(text[:4])\n",
    "print(text[::-1])\n",
    "print(text[::-1][len(text)//2 - 1:len(text)//2 + 2])\n",
    "print(len(text))\n",
    "text_1 = text.upper()\n",
    "print(text_1)\n",
    "text_2 = text.replace('a', '*')\n",
    "print(text_2)\n",
    "text_3 =  any(c.isdigit() for c in text)\n",
    "print(text_3)\n",
    "text_4 = text + \"\" + nume + \"\" + prenume\n",
    "print(text_4)\n",
    "if text[-3:] == \"end\":\n",
    "    print(True)\n",
    "else:\n",
    "    print(False)\n",
    "substring = \"ana\"\n",
    "indice = text.find(substring)\n",
    "print(indice)\n"
   ]
  },
  {
   "cell_type": "code",
   "execution_count": 76,
   "metadata": {},
   "outputs": [
    {
     "name": "stdout",
     "output_type": "stream",
     "text": [
      "b este mai mare ca a\n",
      "False\n",
      "a este neutru\n",
      "False\n"
     ]
    }
   ],
   "source": [
    "a = input()\n",
    "b = input()\n",
    "a = int(a)\n",
    "b = int(b)\n",
    "if a>b:\n",
    "    print(\"a este mai mare ca b\")\n",
    "elif a<b:\n",
    "    print(\"b este mai mare ca a\")\n",
    "else:\n",
    "    print(\"a si b sunt egale\")\n",
    "if (a+b) % 2 == 0:\n",
    "    print(True)\n",
    "else:\n",
    "    print(False)\n",
    "if a>0:\n",
    "    print(\"a este pozitiv\")\n",
    "elif a<0:\n",
    "    print(\"a este negativ\")\n",
    "else:\n",
    "    print(\"a este neutru\")\n",
    "if 1<=a<=10:\n",
    "    print(\"a apartine intervalului [1-10]\")\n",
    "elif 11<=a<=20:\n",
    "    print(\"a apartine intervalului [11-20]\")\n",
    "elif a>20:\n",
    "    print(\"a este mai mare ca 20\")\n",
    "else:\n",
    "    print(False)"
   ]
  },
  {
   "cell_type": "code",
   "execution_count": 1,
   "metadata": {},
   "outputs": [
    {
     "name": "stdout",
     "output_type": "stream",
     "text": [
      "True\n"
     ]
    }
   ],
   "source": [
    "text=input()\n",
    "if len(text) > 10 and \"hello\" in text:\n",
    "    print(True)\n",
    "else:\n",
    "    print(False)\n"
   ]
  },
  {
   "cell_type": "code",
   "execution_count": 77,
   "metadata": {},
   "outputs": [
    {
     "name": "stdout",
     "output_type": "stream",
     "text": [
      "a este multiplu al lui b.\n"
     ]
    }
   ],
   "source": [
    "a = input()\n",
    "b = input()\n",
    "a = int(a)\n",
    "b = int(b)\n",
    "if a % b == 0:\n",
    "    print(\"a este multiplu al lui b.\")\n",
    "else:\n",
    "    print(\"a nu este multiplu al lui b.\")"
   ]
  },
  {
   "cell_type": "code",
   "execution_count": 81,
   "metadata": {},
   "outputs": [],
   "source": [
    "a = input()\n",
    "a = int(a)\n",
    "if 1<=a<=10:\n",
    "    print(\"Buna dimineata\")\n",
    "elif a<=17:\n",
    "    print(\"Buna ziua\")\n",
    "elif a<=24:\n",
    "    print(\"Buna seara\")"
   ]
  },
  {
   "cell_type": "code",
   "execution_count": 85,
   "metadata": {},
   "outputs": [
    {
     "name": "stdout",
     "output_type": "stream",
     "text": [
      "False\n"
     ]
    }
   ],
   "source": [
    "a = input()\n",
    "a = int(a)\n",
    "if a % 2 == 0 and a % 3 == 0:\n",
    "    print(True)\n",
    "else:\n",
    "    print(False)"
   ]
  },
  {
   "cell_type": "code",
   "execution_count": 87,
   "metadata": {},
   "outputs": [
    {
     "name": "stdout",
     "output_type": "stream",
     "text": [
      "Totul funcționează perfect!\n"
     ]
    }
   ],
   "source": [
    "text=input()\n",
    "if \"error\" in text:\n",
    "    print(\"Trebuie să verificăm codul!\")\n",
    "else:\n",
    "    print(\"Totul funcționează perfect!\")"
   ]
  },
  {
   "cell_type": "code",
   "execution_count": 88,
   "metadata": {},
   "outputs": [
    {
     "name": "stdout",
     "output_type": "stream",
     "text": [
      "nume+prenume este mai lung\n"
     ]
    }
   ],
   "source": [
    "text=input()\n",
    "nume=input()\n",
    "prenume=input()\n",
    "if len(text) > len(nume) + len(prenume):\n",
    "    print(\"text este mai lung\")\n",
    "elif len(text) < len(nume) + len(prenume):\n",
    "    print(\"nume+prenume este mai lung\")\n",
    "else:\n",
    "    print(\"sunt egale\")"
   ]
  },
  {
   "cell_type": "code",
   "execution_count": 95,
   "metadata": {},
   "outputs": [
    {
     "name": "stdout",
     "output_type": "stream",
     "text": [
      "excelent\n"
     ]
    }
   ],
   "source": [
    "nota = input()\n",
    "nota = int(nota)\n",
    "if 9<=nota <=10:\n",
    "    print(\"excelent\")\n",
    "elif 7<=nota<=8:\n",
    "    print(\"bine\")\n",
    "elif 5<= nota <=6:\n",
    "    print(\"suficient\")\n",
    "elif 1<= nota:\n",
    "    print(\"insuficient\")"
   ]
  },
  {
   "cell_type": "code",
   "execution_count": 98,
   "metadata": {},
   "outputs": [
    {
     "name": "stdout",
     "output_type": "stream",
     "text": [
      "False\n"
     ]
    }
   ],
   "source": [
    "a = input()\n",
    "b = input()\n",
    "a = int(a)\n",
    "b = int(b)\n",
    "if 0<=a<=b:\n",
    "    print(True)\n",
    "else:\n",
    "    print(False)"
   ]
  },
  {
   "cell_type": "code",
   "execution_count": 105,
   "metadata": {},
   "outputs": [
    {
     "name": "stdout",
     "output_type": "stream",
     "text": [
      "Buzz\n"
     ]
    }
   ],
   "source": [
    "a = input()\n",
    "a = int(a)\n",
    "if a % 3 == 0 and a % 5 == 0:\n",
    "    print(\"FizzBuzz\")\n",
    "elif a % 5 == 0:\n",
    "    print(\"Buzz\")\n",
    "elif a % 3 == 0:\n",
    "    print(\"Fizz\")"
   ]
  },
  {
   "cell_type": "code",
   "execution_count": 108,
   "metadata": {},
   "outputs": [
    {
     "name": "stdout",
     "output_type": "stream",
     "text": [
      "An obisnuit\n"
     ]
    }
   ],
   "source": [
    "a = input()\n",
    "a = int(a)\n",
    "if a % 4 == 0 and a % 100 !=0 or a % 400 == 0:\n",
    "    print(\"An bisect\")\n",
    "else:\n",
    "    print(\"An obisnuit\")"
   ]
  },
  {
   "cell_type": "code",
   "execution_count": 119,
   "metadata": {},
   "outputs": [
    {
     "name": "stdout",
     "output_type": "stream",
     "text": [
      "[1, 2, 3, 4, 5, 6, 7, 8, 9, 10]\n"
     ]
    }
   ],
   "source": [
    "lista = list(range(1,11))\n",
    "print(lista)"
   ]
  },
  {
   "cell_type": "code",
   "execution_count": 122,
   "metadata": {},
   "outputs": [
    {
     "name": "stdout",
     "output_type": "stream",
     "text": [
      "[20, 19, 18, 17, 16, 15, 14, 13, 12, 11, 10, 9, 8, 7, 6, 5, 4, 3, 2, 1]\n"
     ]
    }
   ],
   "source": [
    "print(lista[::-1])"
   ]
  },
  {
   "cell_type": "code",
   "execution_count": 120,
   "metadata": {},
   "outputs": [],
   "source": [
    "lista.extend(range(11,21))"
   ]
  },
  {
   "cell_type": "code",
   "execution_count": 121,
   "metadata": {},
   "outputs": [
    {
     "name": "stdout",
     "output_type": "stream",
     "text": [
      "2\n",
      "4\n",
      "6\n",
      "8\n",
      "10\n",
      "12\n",
      "14\n",
      "16\n",
      "18\n",
      "20\n"
     ]
    }
   ],
   "source": [
    "for numar in lista:\n",
    "    if numar % 2 == 0:\n",
    "        print(numar)"
   ]
  },
  {
   "cell_type": "code",
   "execution_count": 124,
   "metadata": {},
   "outputs": [
    {
     "name": "stdout",
     "output_type": "stream",
     "text": [
      "[1, 2, 3, 4, 5]\n"
     ]
    }
   ],
   "source": [
    "print(lista[:5])"
   ]
  },
  {
   "cell_type": "code",
   "execution_count": 131,
   "metadata": {},
   "outputs": [
    {
     "name": "stdout",
     "output_type": "stream",
     "text": [
      "[1, 2, 3, 4, 10, 11, 12, 13, 14, 15, 16, 17, 18, 19, 20]\n"
     ]
    }
   ],
   "source": [
    "lista.pop(4)\n",
    "print(lista)"
   ]
  },
  {
   "cell_type": "code",
   "execution_count": 132,
   "metadata": {},
   "outputs": [
    {
     "name": "stdout",
     "output_type": "stream",
     "text": [
      "Elementul de pe pozitia 0 este: 1\n",
      "Elementul de pe pozitia 1 este: 2\n",
      "Elementul de pe pozitia 2 este: 3\n",
      "Elementul de pe pozitia 3 este: 4\n",
      "Elementul de pe pozitia 4 este: 10\n",
      "Elementul de pe pozitia 5 este: 11\n",
      "Elementul de pe pozitia 6 este: 12\n",
      "Elementul de pe pozitia 7 este: 13\n",
      "Elementul de pe pozitia 8 este: 14\n",
      "Elementul de pe pozitia 9 este: 15\n",
      "Elementul de pe pozitia 10 este: 16\n",
      "Elementul de pe pozitia 11 este: 17\n",
      "Elementul de pe pozitia 12 este: 18\n",
      "Elementul de pe pozitia 13 este: 19\n",
      "Elementul de pe pozitia 14 este: 20\n"
     ]
    }
   ],
   "source": [
    "for indice, element in enumerate(lista):\n",
    "    print(f\"Elementul de pe pozitia {indice} este: {element}\")"
   ]
  },
  {
   "cell_type": "code",
   "execution_count": 133,
   "metadata": {},
   "outputs": [
    {
     "name": "stdout",
     "output_type": "stream",
     "text": [
      "[20, 19, 18, 17, 16, 15, 14, 13, 12, 11, 10, 4, 3, 2, 1]\n"
     ]
    }
   ],
   "source": [
    "lista_inversata = lista[::-1]\n",
    "print(lista_inversata)"
   ]
  },
  {
   "cell_type": "code",
   "execution_count": 134,
   "metadata": {},
   "outputs": [
    {
     "name": "stdout",
     "output_type": "stream",
     "text": [
      "Numărul 67 nu există în listă.\n"
     ]
    }
   ],
   "source": [
    "for _ in range(5):\n",
    "    element_nou = input()\n",
    "    lista.append(element_nou)\n",
    "\n",
    "numar_cautat = input()\n",
    "\n",
    "if numar_cautat in lista:\n",
    "    print(f\"Numărul {numar_cautat} există în listă.\")\n",
    "else:\n",
    "    print(f\"Numărul {numar_cautat} nu există în listă.\")\n"
   ]
  },
  {
   "cell_type": "code",
   "execution_count": 138,
   "metadata": {},
   "outputs": [
    {
     "name": "stdout",
     "output_type": "stream",
     "text": [
      "[64, 128, 192, 256, 640, 704, 768, 832, 896, 960, 1024, 1088, 1152, 1216, 1280, '5555555555555555555555555555555555555555555555555555555555555555', '32323232323232323232323232323232323232323232323232323232323232323232323232323232323232323232323232323232323232323232323232323232', '4234423442344234423442344234423442344234423442344234423442344234423442344234423442344234423442344234423442344234423442344234423442344234423442344234423442344234423442344234423442344234423442344234423442344234423442344234423442344234423442344234423442344234', '4353435343534353435343534353435343534353435343534353435343534353435343534353435343534353435343534353435343534353435343534353435343534353435343534353435343534353435343534353435343534353435343534353435343534353435343534353435343534353435343534353435343534353', '546546546546546546546546546546546546546546546546546546546546546546546546546546546546546546546546546546546546546546546546546546546546546546546546546546546546546546546546546546546546546546546546']\n"
     ]
    }
   ],
   "source": [
    "while lista[0] <= 50:\n",
    "    lista = [element *2 for element in lista]\n",
    "print(lista)"
   ]
  },
  {
   "cell_type": "code",
   "execution_count": 144,
   "metadata": {},
   "outputs": [
    {
     "ename": "TypeError",
     "evalue": "'<' not supported between instances of 'int' and 'str'",
     "output_type": "error",
     "traceback": [
      "\u001b[1;31m---------------------------------------------------------------------------\u001b[0m",
      "\u001b[1;31mTypeError\u001b[0m                                 Traceback (most recent call last)",
      "Cell \u001b[1;32mIn[144], line 2\u001b[0m\n\u001b[0;32m      1\u001b[0m lista_crescatoare \u001b[38;5;241m=\u001b[39m lista\u001b[38;5;241m.\u001b[39msort\n\u001b[1;32m----> 2\u001b[0m lista_descrescatoare \u001b[38;5;241m=\u001b[39m \u001b[43mlista\u001b[49m\u001b[38;5;241;43m.\u001b[39;49m\u001b[43msort\u001b[49m\u001b[43m(\u001b[49m\u001b[43mreverse\u001b[49m\u001b[38;5;241;43m=\u001b[39;49m\u001b[38;5;28;43;01mTrue\u001b[39;49;00m\u001b[43m)\u001b[49m\n\u001b[0;32m      3\u001b[0m \u001b[38;5;28mprint\u001b[39m(lista_crescatoare)\n\u001b[0;32m      4\u001b[0m \u001b[38;5;28mprint\u001b[39m(lista_descrescatoare)\n",
      "\u001b[1;31mTypeError\u001b[0m: '<' not supported between instances of 'int' and 'str'"
     ]
    }
   ],
   "source": [
    "lista_crescatoare = lista.sort\n",
    "lista_descrescatoare = lista.sort(reverse=True)\n",
    "print(lista_crescatoare)\n",
    "print(lista_descrescatoare)"
   ]
  },
  {
   "cell_type": "code",
   "execution_count": 151,
   "metadata": {},
   "outputs": [
    {
     "name": "stdout",
     "output_type": "stream",
     "text": [
      "[1, 4, 9, 16, 25, 36, 49, 64, 81, 100]\n"
     ]
    }
   ],
   "source": [
    "numere = list(range(1, 100))\n",
    "numere_patrat_perfect = [n**2 for n in list(range(1, 11))]\n",
    "print(numere_patrat_perfect)\n"
   ]
  },
  {
   "cell_type": "code",
   "execution_count": 153,
   "metadata": {},
   "outputs": [
    {
     "name": "stdout",
     "output_type": "stream",
     "text": [
      "[1, 3, 5, 7, 9, 11, 13, 15, 17, 19, 21, 23, 25, 27, 29, 31, 33, 35, 37, 39, 41, 43, 45, 47, 49, 51, 53, 55, 57, 59, 61, 63, 65, 67, 69, 71, 73, 75, 77, 79, 81, 83, 85, 87, 89, 91, 93, 95, 97, 99]\n"
     ]
    }
   ],
   "source": [
    "numere = list(range(1, 100))\n",
    "print(numere[:100:2])"
   ]
  },
  {
   "cell_type": "code",
   "execution_count": 157,
   "metadata": {},
   "outputs": [
    {
     "name": "stdout",
     "output_type": "stream",
     "text": [
      "Lista nu este un palindrom.\n"
     ]
    }
   ],
   "source": [
    "lista_palindrom = input()\n",
    "if lista_palindrom == lista_palindrom[::-1]:\n",
    "    print(\"Lista este un palindrom.\")\n",
    "else:\n",
    "    print(\"Lista nu este un palindrom.\")\n"
   ]
  },
  {
   "cell_type": "code",
   "execution_count": 158,
   "metadata": {},
   "outputs": [
    {
     "name": "stdout",
     "output_type": "stream",
     "text": [
      "7\n",
      "14\n",
      "21\n",
      "28\n",
      "35\n",
      "42\n",
      "49\n",
      "56\n",
      "63\n",
      "70\n"
     ]
    }
   ],
   "source": [
    "numar = 7\n",
    "for i in range(1, 11):\n",
    "    rezultat = numar * i\n",
    "    print(rezultat)"
   ]
  },
  {
   "cell_type": "code",
   "execution_count": 159,
   "metadata": {},
   "outputs": [
    {
     "name": "stdout",
     "output_type": "stream",
     "text": [
      "[(1, 1), (1, 2), (1, 3), (1, 4), (1, 5)]\n",
      "[(2, 1), (2, 2), (2, 3), (2, 4), (2, 5)]\n",
      "[(3, 1), (3, 2), (3, 3), (3, 4), (3, 5)]\n",
      "[(4, 1), (4, 2), (4, 3), (4, 4), (4, 5)]\n",
      "[(5, 1), (5, 2), (5, 3), (5, 4), (5, 5)]\n"
     ]
    }
   ],
   "source": [
    "lista_de_liste = [[(i, j) for j in range(1, 6)] for i in range(1, 6)]\n",
    "for sublista in lista_de_liste:\n",
    "    print(sublista)\n"
   ]
  },
  {
   "cell_type": "code",
   "execution_count": 160,
   "metadata": {},
   "outputs": [
    {
     "name": "stdout",
     "output_type": "stream",
     "text": [
      "(1, 2)\n",
      "(1, 3)\n",
      "(1, 4)\n",
      "(1, 5)\n",
      "(2, 3)\n",
      "(2, 4)\n",
      "(2, 5)\n",
      "(3, 4)\n",
      "(3, 5)\n",
      "(4, 5)\n"
     ]
    }
   ],
   "source": [
    "for sublista in lista_de_liste:\n",
    "    for i, j in sublista:\n",
    "        if i < j:\n",
    "            print((i, j))"
   ]
  },
  {
   "cell_type": "code",
   "execution_count": 161,
   "metadata": {},
   "outputs": [
    {
     "name": "stdout",
     "output_type": "stream",
     "text": [
      "[3, 3, 4, 5, 5]\n"
     ]
    }
   ],
   "source": [
    "lista_stringuri = [\"unu\", \"doi\", \"trei\", \"patru\", \"cinci\"]\n",
    "lungimi_stringuri = [len(s) for s in lista_stringuri]\n",
    "print(lungimi_stringuri)"
   ]
  },
  {
   "cell_type": "code",
   "execution_count": 164,
   "metadata": {},
   "outputs": [
    {
     "ename": "ValueError",
     "evalue": "invalid literal for int() with base 10: '2, 12, 13'",
     "output_type": "error",
     "traceback": [
      "\u001b[1;31m---------------------------------------------------------------------------\u001b[0m",
      "\u001b[1;31mValueError\u001b[0m                                Traceback (most recent call last)",
      "Cell \u001b[1;32mIn[164], line 2\u001b[0m\n\u001b[0;32m      1\u001b[0m lista \u001b[38;5;241m=\u001b[39m \u001b[38;5;28minput\u001b[39m()\n\u001b[1;32m----> 2\u001b[0m lista \u001b[38;5;241m=\u001b[39m \u001b[38;5;28;43mint\u001b[39;49m\u001b[43m(\u001b[49m\u001b[43mlista\u001b[49m\u001b[43m)\u001b[49m\n\u001b[0;32m      3\u001b[0m index \u001b[38;5;241m=\u001b[39m \u001b[38;5;241m0\u001b[39m\n\u001b[0;32m      4\u001b[0m \u001b[38;5;28;01mwhile\u001b[39;00m index \u001b[38;5;241m<\u001b[39m \u001b[38;5;28mlen\u001b[39m(lista) \u001b[38;5;129;01mand\u001b[39;00m lista[index] \u001b[38;5;241m<\u001b[39m\u001b[38;5;241m=\u001b[39m \u001b[38;5;241m10\u001b[39m:\n",
      "\u001b[1;31mValueError\u001b[0m: invalid literal for int() with base 10: '2, 12, 13'"
     ]
    }
   ],
   "source": [
    "lista = input()\n",
    "lista = int(lista)\n",
    "index = 0\n",
    "while index < len(lista) and lista[index] <= 10:\n",
    "    index += 1\n",
    "if index < len(lista):\n",
    "    print(f\"Prima valoare mai mare decât 10 este: {lista[index]}\")\n",
    "else:\n",
    "    print(\"Nu există valori mai mari decât 10 în listă.\")\n"
   ]
  },
  {
   "cell_type": "code",
   "execution_count": 165,
   "metadata": {},
   "outputs": [
    {
     "name": "stdout",
     "output_type": "stream",
     "text": [
      "Elementul exista.\n"
     ]
    }
   ],
   "source": [
    "element_cautat = 15\n",
    "lista_elemente = [5, 8, 12, 3, 7, 15]\n",
    "for element in lista_elemente:\n",
    "    if element == element_cautat:\n",
    "        print(\"Elementul exista.\")\n",
    "        break\n",
    "else:\n",
    "    print(\"Elementul nu exist.\")\n",
    "\n"
   ]
  },
  {
   "cell_type": "code",
   "execution_count": null,
   "metadata": {},
   "outputs": [],
   "source": [
    "dimensiune = int(input())\n",
    "for i in range(dimensiune):\n",
    "    for j in range(dimensiune):\n",
    "        print(\"*\", end=\" \")\n",
    "    print()"
   ]
  },
  {
   "cell_type": "code",
   "execution_count": 167,
   "metadata": {},
   "outputs": [
    {
     "name": "stdout",
     "output_type": "stream",
     "text": [
      "1\n",
      "12\n",
      "123\n",
      "1234\n",
      "12345\n",
      "123456\n"
     ]
    }
   ],
   "source": [
    "for i in range(1, 7):\n",
    "    for j in range(1, i+1):\n",
    "        print(j, end=\"\")\n",
    "    print()"
   ]
  },
  {
   "cell_type": "code",
   "execution_count": 168,
   "metadata": {},
   "outputs": [
    {
     "name": "stdout",
     "output_type": "stream",
     "text": [
      "54321\n",
      "5432\n",
      "543\n",
      "54\n",
      "5\n"
     ]
    }
   ],
   "source": [
    "for j in range(0, 5, 1):\n",
    "    for i in range(5, j, -1):\n",
    "        print(i, end=\"\")\n",
    "    print()"
   ]
  },
  {
   "cell_type": "code",
   "execution_count": 169,
   "metadata": {},
   "outputs": [
    {
     "name": "stdout",
     "output_type": "stream",
     "text": [
      "abcdefg\n",
      "bcdefg\n",
      "cdefg\n",
      "defg\n",
      "efg\n",
      "fg\n",
      "g\n"
     ]
    }
   ],
   "source": [
    "sir = \"abcdefg\"\n",
    "lungime = len(sir)\n",
    "i = 0\n",
    "\n",
    "while i < lungime:\n",
    "    print(sir[i:])\n",
    "    i += 1"
   ]
  },
  {
   "cell_type": "code",
   "execution_count": 170,
   "metadata": {},
   "outputs": [
    {
     "name": "stdout",
     "output_type": "stream",
     "text": [
      "+-+-+-+-+-+-+-\n",
      "-+-+-+-+-+-+-+\n",
      "+-+-+-+-+-+-+-\n",
      "-+-+-+-+-+-+-+\n",
      "+-+-+-+-+-+-+-\n",
      "-+-+-+-+-+-+-+\n",
      "+-+-+-+-+-+-+-\n",
      "-+-+-+-+-+-+-+\n",
      "+-+-+-+-+-+-+-\n",
      "-+-+-+-+-+-+-+\n",
      "+-+-+-+-+-+-+-\n",
      "-+-+-+-+-+-+-+\n",
      "+-+-+-+-+-+-+-\n",
      "-+-+-+-+-+-+-+\n",
      "+-+-+-+-+-+-+-\n"
     ]
    }
   ],
   "source": [
    "n = 15\n",
    "for i in range(n):\n",
    "    if i % 2 == 0:\n",
    "        linie = \"+-\"\n",
    "    else:\n",
    "        linie = \"-+\"\n",
    "    \n",
    "    print(linie * (n // 2))\n"
   ]
  },
  {
   "cell_type": "code",
   "execution_count": 171,
   "metadata": {},
   "outputs": [
    {
     "name": "stdout",
     "output_type": "stream",
     "text": [
      "1 \n",
      "1 3 \n",
      "1 3 9 \n",
      "1 3 9 27 \n",
      "1 3 9 27 81 \n",
      "3 9 27 81 \n",
      "9 27 81 \n",
      "27 81 \n",
      "81 \n"
     ]
    }
   ],
   "source": [
    "n = 5\n",
    "for i in range(n):\n",
    "    for j in range(i + 1):\n",
    "        print(3 ** j, end=\" \")\n",
    "    print()\n",
    "    \n",
    "for i in range(1, n):\n",
    "    for j in range(n - i):\n",
    "        print(3 ** (j + i), end=\" \")\n",
    "    print()"
   ]
  },
  {
   "cell_type": "code",
   "execution_count": 181,
   "metadata": {},
   "outputs": [],
   "source": [
    "def print_pyramid(n):\n",
    "    \"\"\"\n",
    "    Afiseaza o piramida cu inaltimea specificats, folosind caracterul \"*\".\n",
    "\n",
    "    Args:\n",
    "    - n (int): inltimea piramidei.\n",
    "\n",
    "    Exemplu de utilizare:\n",
    "    >>> print_pyramid(5)\n",
    "        *\n",
    "       ***\n",
    "      *****\n",
    "     *******\n",
    "    *********\n",
    "    \"\"\"\n",
    "    for i in range(n):\n",
    "        spatiu = \" \" * (n - i - 1)\n",
    "        stelute = \"*\" * (2 * i + 1)\n",
    "        print(spatiu + stelute)\n"
   ]
  },
  {
   "cell_type": "code",
   "execution_count": 183,
   "metadata": {},
   "outputs": [
    {
     "name": "stdout",
     "output_type": "stream",
     "text": [
      "    *\n",
      "   ***\n",
      "  *****\n",
      " *******\n",
      "*********\n"
     ]
    }
   ],
   "source": [
    "print_pyramid(5)"
   ]
  },
  {
   "cell_type": "code",
   "execution_count": 184,
   "metadata": {},
   "outputs": [
    {
     "name": "stdout",
     "output_type": "stream",
     "text": [
      "[1, 2, 3, 4, 5, 6]\n"
     ]
    }
   ],
   "source": [
    "def merge_lists(lista1, lista2):\n",
    "    \"\"\"\n",
    "    Uneste doua liste sortate si returneaza o noua lista sortata.\n",
    "\n",
    "    Args:\n",
    "    - lista1 (list): Prima lista sortata.\n",
    "    - lista2 (list): A doua lista sortata.\n",
    "\n",
    "    Returns:\n",
    "    - list: Lista sortata rezultata din combinarea celor doua liste.\n",
    "\n",
    "    Exemplu de utilizare:\n",
    "    >>> merge_lists([1, 3, 5], [2, 4, 6])\n",
    "    [1, 2, 3, 4, 5, 6]\n",
    "    \"\"\"\n",
    "    result = []\n",
    "    i = j = 0\n",
    "\n",
    "    while i < len(lista1) and j < len(lista2):\n",
    "        if lista1[i] < lista2[j]:\n",
    "            result.append(lista1[i])\n",
    "            i += 1\n",
    "        else:\n",
    "            result.append(lista2[j])\n",
    "            j += 1\n",
    "\n",
    "    result.extend(lista1[i:])\n",
    "    result.extend(lista2[j:])\n",
    "\n",
    "    return result\n",
    "\n",
    "# Exemplu de utilizare\n",
    "print(merge_lists([1, 3, 5], [2, 4, 6]))  # [1, 2, 3, 4, 5, 6]"
   ]
  },
  {
   "cell_type": "code",
   "execution_count": 185,
   "metadata": {},
   "outputs": [
    {
     "name": "stdout",
     "output_type": "stream",
     "text": [
      "{1: ['a', 'c'], 2: ['b'], 3: ['d']}\n"
     ]
    }
   ],
   "source": [
    "def invert_dict(dictionar):\n",
    "    \"\"\"\n",
    "    Inverseaza cheile cu valorile intr-un dictionar.\n",
    "\n",
    "    Args:\n",
    "    - dictionar (dict): Dictionarul de inversat.\n",
    "\n",
    "    Returns:\n",
    "    - dict: Dictionarul rezultat, cu cheile si valorile inversate.\n",
    "\n",
    "    Exemplu de utilizare:\n",
    "    >>> invert_dict({'a': 1, 'b': 2, 'c': 1, 'd': 3})\n",
    "    {1: ['a', 'c'], 2: ['b'], 3: ['d']}\n",
    "    \"\"\"\n",
    "    inverted_dict = {}\n",
    "\n",
    "    for cheie, valoare in dictionar.items():\n",
    "        if valoare not in inverted_dict:\n",
    "            inverted_dict[valoare] = [cheie]\n",
    "        else:\n",
    "            inverted_dict[valoare].append(cheie)\n",
    "\n",
    "    return inverted_dict\n",
    "\n",
    "# Exemplu de utilizare\n",
    "print(invert_dict({'a': 1, 'b': 2, 'c': 1, 'd': 3}))"
   ]
  },
  {
   "cell_type": "code",
   "execution_count": 186,
   "metadata": {},
   "outputs": [
    {
     "name": "stdout",
     "output_type": "stream",
     "text": [
      "{'h': 1, 'e': 1, 'l': 2, 'o': 1}\n"
     ]
    }
   ],
   "source": [
    "def char_histogram(sir):\n",
    "    \"\"\"\n",
    "    Calculeaza frecventa fiecarui caracter intr-un sir de caractere.\n",
    "\n",
    "    Args:\n",
    "    - sir (str): Sirul de caractere.\n",
    "\n",
    "    Returns:\n",
    "    - dict: Dictionarul cu frecventa fiecarui caracter.\n",
    "\n",
    "    Exemplu de utilizare:\n",
    "    >>> char_histogram(\"hello\")\n",
    "    {'h': 1, 'e': 1, 'l': 2, 'o': 1}\n",
    "    \"\"\"\n",
    "    histograma = {}\n",
    "\n",
    "    for caracter in sir:\n",
    "        if caracter not in histograma:\n",
    "            histograma[caracter] = 1\n",
    "        else:\n",
    "            histograma[caracter] += 1\n",
    "\n",
    "    return histograma\n",
    "\n",
    "# Exemplu de utilizare\n",
    "print(char_histogram(\"hello\"))"
   ]
  },
  {
   "cell_type": "code",
   "execution_count": 187,
   "metadata": {},
   "outputs": [
    {
     "name": "stdout",
     "output_type": "stream",
     "text": [
      "[1, 2, 3, 4, 5]\n"
     ]
    }
   ],
   "source": [
    "def unique_elements(lista):\n",
    "    \"\"\"\n",
    "    Extrage elementele unice dintr-o lista.\n",
    "\n",
    "    Args:\n",
    "    - lista (list): Lista de elemente.\n",
    "\n",
    "    Returns:\n",
    "    - list: Lista cu elementele unice.\n",
    "\n",
    "    Exemplu de utilizare:\n",
    "    >>> unique_elements([1, 2, 2, 3, 4, 4, 5])\n",
    "    [1, 2, 3, 4, 5]\n",
    "    \"\"\"\n",
    "    return list(set(lista))\n",
    "\n",
    "# Exemplu de utilizare\n",
    "print(unique_elements([1, 2, 2, 3, 4, 4, 5]))"
   ]
  },
  {
   "cell_type": "code",
   "execution_count": 188,
   "metadata": {},
   "outputs": [
    {
     "name": "stdout",
     "output_type": "stream",
     "text": [
      "[3, 4]\n"
     ]
    }
   ],
   "source": [
    "def common_elements(lista1, lista2):\n",
    "    \"\"\"\n",
    "    Returneaza o lista noua cu elementele comune ale doua liste.\n",
    "\n",
    "    Args:\n",
    "    - lista1 (list): Prima lista.\n",
    "    - lista2 (list): A doua lista.\n",
    "\n",
    "    Returns:\n",
    "    - list: Lista cu elementele comune ale celor doua liste.\n",
    "\n",
    "    Exemplu de utilizare:\n",
    "    >>> common_elements([1, 2, 3, 4], [3, 4, 5, 6])\n",
    "    [3, 4]\n",
    "    \"\"\"\n",
    "    return list(set(lista1) & set(lista2))\n",
    "\n",
    "# Exemplu de utilizare\n",
    "print(common_elements([1, 2, 3, 4], [3, 4, 5, 6]))"
   ]
  },
  {
   "cell_type": "code",
   "execution_count": null,
   "metadata": {},
   "outputs": [],
   "source": []
  }
 ],
 "metadata": {
  "kernelspec": {
   "display_name": "Python 3",
   "language": "python",
   "name": "python3"
  },
  "language_info": {
   "codemirror_mode": {
    "name": "ipython",
    "version": 3
   },
   "file_extension": ".py",
   "mimetype": "text/x-python",
   "name": "python",
   "nbconvert_exporter": "python",
   "pygments_lexer": "ipython3",
   "version": "3.12.0"
  }
 },
 "nbformat": 4,
 "nbformat_minor": 2
}
